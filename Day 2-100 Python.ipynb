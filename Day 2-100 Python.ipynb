{
 "cells": [
  {
   "cell_type": "code",
   "execution_count": 1,
   "metadata": {},
   "outputs": [
    {
     "data": {
      "text/plain": [
       "134"
      ]
     },
     "execution_count": 1,
     "metadata": {},
     "output_type": "execute_result"
    }
   ],
   "source": [
    "#Example = 1\n",
    "#Python program to add two numbers\n",
    "45+89"
   ]
  },
  {
   "cell_type": "code",
   "execution_count": 2,
   "metadata": {},
   "outputs": [
    {
     "data": {
      "text/plain": [
       "97"
      ]
     },
     "execution_count": 2,
     "metadata": {},
     "output_type": "execute_result"
    }
   ],
   "source": [
    "#Same example using variable\n",
    "Num1 = 20\n",
    "Num2 = 77\n",
    "Num1 + Num2 "
   ]
  },
  {
   "cell_type": "code",
   "execution_count": 4,
   "metadata": {},
   "outputs": [
    {
     "name": "stdout",
     "output_type": "stream",
     "text": [
      "97\n"
     ]
    }
   ],
   "source": [
    "#Same example using print function\n",
    "Num1 = 20\n",
    "Num2 = 77\n",
    "Sum = Num1 + Num2\n",
    "print(Sum)"
   ]
  },
  {
   "cell_type": "code",
   "execution_count": 22,
   "metadata": {},
   "outputs": [
    {
     "name": "stdout",
     "output_type": "stream",
     "text": [
      "Enter first number:-45\n",
      "\n",
      "Enter second number:-45\n",
      "Sum = 4545\n"
     ]
    }
   ],
   "source": [
    "#Adding two number provided by user input\n",
    "Num1 = input(\"Enter first number:-\")\n",
    "Num2 = input(\"\\nEnter second number:-\")\n",
    "Sum = (Num1) + (Num2)  #if you don't use int or float it will take input as a string and Concatenate or join to together  \n",
    "print(\"Sum =\",Sum)"
   ]
  },
  {
   "cell_type": "code",
   "execution_count": 21,
   "metadata": {},
   "outputs": [
    {
     "name": "stdout",
     "output_type": "stream",
     "text": [
      "Enter first number:-45\n",
      "\n",
      "Enter second number:-45\n",
      "sum = 90.0\n"
     ]
    }
   ],
   "source": [
    "#Adding two number provided by user input\n",
    "Num1 = input(\"Enter first number:-\")\n",
    "Num2 = input(\"\\nEnter second number:-\")\n",
    "Sum = float(Num1) + float(Num2)  \n",
    "print(\"sum =\",Sum)"
   ]
  },
  {
   "cell_type": "code",
   "execution_count": 33,
   "metadata": {},
   "outputs": [
    {
     "name": "stdout",
     "output_type": "stream",
     "text": [
      "Factorial of 5 is 120\n"
     ]
    }
   ],
   "source": [
    "#Example 2\n",
    "#Python Program for factorial of a number\n",
    "\n",
    "def factorial(n): \n",
    "    return 1 if (n==1 or n==0) else n * factorial(n - 1); \n",
    " \n",
    "num = 5; \n",
    "print(\"Factorial of\",num,\"is\", \n",
    "factorial(num)) \n",
    "\n",
    "\n",
    "\n"
   ]
  },
  {
   "cell_type": "code",
   "execution_count": 41,
   "metadata": {},
   "outputs": [
    {
     "name": "stdout",
     "output_type": "stream",
     "text": [
      "factorial = 120\n"
     ]
    }
   ],
   "source": [
    "num = 5\n",
    "def factorial(num):\n",
    "    return 1 if (num == 1 or num == 0) else num*factorial(num-1);\n",
    "print(\"factorial =\",factorial(num))\n",
    "    "
   ]
  },
  {
   "cell_type": "code",
   "execution_count": 42,
   "metadata": {},
   "outputs": [
    {
     "name": "stdout",
     "output_type": "stream",
     "text": [
      "Enetr number:4\n",
      "factorial = 24\n"
     ]
    }
   ],
   "source": [
    "num = int(input(\"Enetr number:\"))\n",
    "def factorial(num):\n",
    "    return 1 if (num == 1 or num == 0) else num*factorial(num-1);\n",
    "print(\"factorial =\",factorial(num))\n",
    "    "
   ]
  },
  {
   "cell_type": "code",
   "execution_count": 44,
   "metadata": {},
   "outputs": [
    {
     "name": "stdout",
     "output_type": "stream",
     "text": [
      "3000.0\n"
     ]
    }
   ],
   "source": [
    "#Program for simple interest\n",
    "Price = 20000\n",
    "Time = 5\n",
    "Rate = 3\n",
    "SI = Price * Time * Rate/100\n",
    "print(SI)\n"
   ]
  },
  {
   "cell_type": "code",
   "execution_count": 49,
   "metadata": {},
   "outputs": [
    {
     "name": "stdout",
     "output_type": "stream",
     "text": [
      "Enter Price:45000\n",
      "Enetr Time:2\n",
      "Enter Rate:3\n",
      "simple interest= 2700.0\n"
     ]
    }
   ],
   "source": [
    "#Program for simple interest\n",
    "Price = int(input(\"Enter Price:\"))\n",
    "Time = int(input(\"Enetr Time:\"))\n",
    "Rate = int(input(\"Enter Rate:\"))\n",
    "#Calculates simple interest \n",
    "SI = Price * Time * Rate / 100\n",
    "print(\"simple interest=\",SI)\n",
    "\n",
    "# This code is contributed by Chetan pujari(Imaginary programmer).\n"
   ]
  },
  {
   "cell_type": "code",
   "execution_count": null,
   "metadata": {},
   "outputs": [],
   "source": []
  }
 ],
 "metadata": {
  "kernelspec": {
   "display_name": "Python 3",
   "language": "python",
   "name": "python3"
  },
  "language_info": {
   "codemirror_mode": {
    "name": "ipython",
    "version": 3
   },
   "file_extension": ".py",
   "mimetype": "text/x-python",
   "name": "python",
   "nbconvert_exporter": "python",
   "pygments_lexer": "ipython3",
   "version": "3.7.4"
  }
 },
 "nbformat": 4,
 "nbformat_minor": 2
}
