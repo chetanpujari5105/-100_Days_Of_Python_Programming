{
 "cells": [
  {
   "cell_type": "code",
   "execution_count": 12,
   "metadata": {},
   "outputs": [
    {
     "name": "stdout",
     "output_type": "stream",
     "text": [
      "Enter principle amount:1200\n",
      "Enter rate:5.4\n",
      "Enter time:2\n",
      "Compound Interest = 1333.0992\n"
     ]
    }
   ],
   "source": [
    "#Example:1\n",
    "#Compound Interest = P(1 + R/100)r\n",
    "#Where,\n",
    "#P is principle amount\n",
    "#R is the rate and\n",
    "#T is the time span\n",
    "\n",
    "p = float(input(\"Enter principle amount:\"))\n",
    "r = float(input(\"Enter rate:\"))\n",
    "t = float(input(\"Enter time:\"))\n",
    "ci = p * (pow ( ( 1 + r / 100 ) ,t ))\n",
    "print(\"Compound Interest =\",ci)"
   ]
  },
  {
   "cell_type": "code",
   "execution_count": 22,
   "metadata": {},
   "outputs": [
    {
     "name": "stdout",
     "output_type": "stream",
     "text": [
      "78.5\n"
     ]
    }
   ],
   "source": [
    "#Example:2\n",
    "#Area of a circle can simply be evaluated using following formula.\n",
    "#Area = pi * r2\n",
    "\n",
    "PI = 3.14\n",
    "Area = PI *R**2\n",
    "print(Area)"
   ]
  },
  {
   "cell_type": "code",
   "execution_count": 4,
   "metadata": {},
   "outputs": [
    {
     "name": "stdout",
     "output_type": "stream",
     "text": [
      "Hello---how are you?\n"
     ]
    }
   ],
   "source": [
    "print(\"Hello\", \"how are you?\", sep=\"---\")"
   ]
  },
  {
   "cell_type": "code",
   "execution_count": 9,
   "metadata": {},
   "outputs": [
    {
     "name": "stdout",
     "output_type": "stream",
     "text": [
      "GFG\n"
     ]
    }
   ],
   "source": [
    "print('G', 'F', 'G', sep ='') "
   ]
  },
  {
   "cell_type": "code",
   "execution_count": 3,
   "metadata": {},
   "outputs": [
    {
     "name": "stdout",
     "output_type": "stream",
     "text": [
      "hello thera1\n"
     ]
    }
   ],
   "source": [
    "eee = 'hello ' + 'thera'\n",
    "eee = eee + '1'\n",
    "print(eee)"
   ]
  },
  {
   "cell_type": "code",
   "execution_count": 5,
   "metadata": {},
   "outputs": [
    {
     "data": {
      "text/plain": [
       "int"
      ]
     },
     "execution_count": 5,
     "metadata": {},
     "output_type": "execute_result"
    }
   ],
   "source": [
    "sval = 123\n",
    "ival = int(sval)\n",
    "type(ival)"
   ]
  },
  {
   "cell_type": "code",
   "execution_count": 8,
   "metadata": {},
   "outputs": [
    {
     "name": "stdout",
     "output_type": "stream",
     "text": [
      "which floor?2\n",
      "your floor is 3\n"
     ]
    }
   ],
   "source": [
    "i = input('which floor?')\n",
    "u = int(i) + 1\n",
    "print('your floor is',u)"
   ]
  },
  {
   "cell_type": "code",
   "execution_count": 10,
   "metadata": {},
   "outputs": [
    {
     "name": "stdout",
     "output_type": "stream",
     "text": [
      "['cleese', 'palin', 'jones', 'idle']\n"
     ]
    }
   ],
   "source": [
    "#List in python might look like arrays, but they aer much more than that.\n",
    "cast = [\"cleese\",\"palin\",\"jones\",\"idle\"]\n",
    "print(cast)"
   ]
  },
  {
   "cell_type": "code",
   "execution_count": 11,
   "metadata": {},
   "outputs": [
    {
     "name": "stdout",
     "output_type": "stream",
     "text": [
      "4\n"
     ]
    }
   ],
   "source": [
    "print(len(cast))"
   ]
  },
  {
   "cell_type": "code",
   "execution_count": 12,
   "metadata": {},
   "outputs": [
    {
     "name": "stdout",
     "output_type": "stream",
     "text": [
      "palin\n"
     ]
    }
   ],
   "source": [
    "print(cast[1])"
   ]
  },
  {
   "cell_type": "code",
   "execution_count": 13,
   "metadata": {},
   "outputs": [],
   "source": [
    "#To add a single data item to the enf of your list (using the append() method)\n",
    "cast.append(\"gilliam\")"
   ]
  },
  {
   "cell_type": "code",
   "execution_count": 14,
   "metadata": {},
   "outputs": [
    {
     "name": "stdout",
     "output_type": "stream",
     "text": [
      "['cleese', 'palin', 'jones', 'idle', 'gilliam']\n"
     ]
    }
   ],
   "source": [
    "print(cast)"
   ]
  },
  {
   "cell_type": "code",
   "execution_count": 15,
   "metadata": {},
   "outputs": [
    {
     "data": {
      "text/plain": [
       "'gilliam'"
      ]
     },
     "execution_count": 15,
     "metadata": {},
     "output_type": "execute_result"
    }
   ],
   "source": [
    "#To remove a single data item to the end of your list (using the pop() method)\n",
    "cast.pop()"
   ]
  },
  {
   "cell_type": "code",
   "execution_count": 16,
   "metadata": {},
   "outputs": [
    {
     "name": "stdout",
     "output_type": "stream",
     "text": [
      "['cleese', 'palin', 'jones', 'idle', 'gillim', 'chapman']\n"
     ]
    }
   ],
   "source": [
    "#To add a collection of data item to the end of your list (using the extend() method)\n",
    "cast.extend([\"gillim\",\"chapman\"])\n",
    "print(cast)"
   ]
  },
  {
   "cell_type": "code",
   "execution_count": 17,
   "metadata": {},
   "outputs": [
    {
     "name": "stdout",
     "output_type": "stream",
     "text": [
      "['cleese', 'palin', 'jones', 'idle', 'gillim']\n"
     ]
    }
   ],
   "source": [
    "#find and remove a specific data item from list with (remove() method)\n",
    "cast.remove(\"chapman\")\n",
    "print(cast)"
   ]
  },
  {
   "cell_type": "code",
   "execution_count": 18,
   "metadata": {},
   "outputs": [
    {
     "name": "stdout",
     "output_type": "stream",
     "text": [
      "['chapman', 'cleese', 'palin', 'jones', 'idle', 'gillim']\n"
     ]
    }
   ],
   "source": [
    "#add a data item before a specific slot locationn(using the insert() method)\n",
    "cast.insert(0,\"chapman\")\n",
    "print(cast)"
   ]
  },
  {
   "cell_type": "code",
   "execution_count": 33,
   "metadata": {
    "scrolled": true
   },
   "outputs": [
    {
     "name": "stdout",
     "output_type": "stream",
     "text": [
      "['The Holy Grail', 1975, 'The life of Brain', 1979, 'the meaning of life', 1983]\n"
     ]
    }
   ],
   "source": [
    "#work out thr python code required to insert the numeric year data into the preceding list:-Methode1\n",
    "Movies = [\"The Holy Grail\",\"The life of Brain\",\"the meaning of life\"]\n",
    "Movies.insert(1,1975)\n",
    "Movies.insert(3,1979)\n",
    "Movies.insert(5,1983)\n",
    "print(Movies)"
   ]
  },
  {
   "cell_type": "code",
   "execution_count": 35,
   "metadata": {},
   "outputs": [
    {
     "name": "stdout",
     "output_type": "stream",
     "text": [
      "['The Holy Grail', 1975, 'The life of Brain', 1979, 'the meaning of life', 1983]\n"
     ]
    }
   ],
   "source": [
    "#re-create the list with the data you need all in one go:-Methode2\n",
    "Movies = ['The Holy Grail', 1975, 'The life of Brain', 1979, 'the meaning of life', 1983]\n",
    "print(Movies)"
   ]
  },
  {
   "cell_type": "code",
   "execution_count": 40,
   "metadata": {},
   "outputs": [
    {
     "name": "stdout",
     "output_type": "stream",
     "text": [
      "infinity war\n",
      "end game\n",
      "iorn man\n"
     ]
    }
   ],
   "source": [
    "#normal methode for printing each single item using print fuction\n",
    "fav_movies = [\"infinity war\",\"end game\",\"iorn man\"]\n",
    "print(fav_movies[0])\n",
    "print(fav_movies[1])\n",
    "print(fav_movies[2])"
   ]
  },
  {
   "cell_type": "code",
   "execution_count": 42,
   "metadata": {},
   "outputs": [
    {
     "name": "stdout",
     "output_type": "stream",
     "text": [
      "infinity war\n",
      "end game\n",
      "iorn man\n"
     ]
    }
   ],
   "source": [
    "#using for loop we don't write to print again and again\n",
    "#using a for loop sales and works with any size list\n",
    "#item is a target identifer\n",
    "#in separates the target identifier from list\n",
    "fav_movies = [\"infinity war\",\"end game\",\"iorn man\"]\n",
    "for item in fav_movies:\n",
    "    print(item) #this is a list processing code "
   ]
  },
  {
   "cell_type": "code",
   "execution_count": 51,
   "metadata": {},
   "outputs": [
    {
     "name": "stdout",
     "output_type": "stream",
     "text": [
      "infinity war\n",
      "end game\n",
      "iorn man\n"
     ]
    }
   ],
   "source": [
    "#using while loop\n",
    "count = 0 #count is for count list from 0th location\n",
    "while count < len(fav_movies):\n",
    "    print(fav_movies[count])\n",
    "    count = count+1\n",
    "#these while and for statement do the same thing"
   ]
  },
  {
   "cell_type": "code",
   "execution_count": null,
   "metadata": {},
   "outputs": [],
   "source": []
  },
  {
   "cell_type": "code",
   "execution_count": null,
   "metadata": {},
   "outputs": [],
   "source": []
  }
 ],
 "metadata": {
  "kernelspec": {
   "display_name": "Python 3",
   "language": "python",
   "name": "python3"
  },
  "language_info": {
   "codemirror_mode": {
    "name": "ipython",
    "version": 3
   },
   "file_extension": ".py",
   "mimetype": "text/x-python",
   "name": "python",
   "nbconvert_exporter": "python",
   "pygments_lexer": "ipython3",
   "version": "3.7.4"
  }
 },
 "nbformat": 4,
 "nbformat_minor": 2
}
