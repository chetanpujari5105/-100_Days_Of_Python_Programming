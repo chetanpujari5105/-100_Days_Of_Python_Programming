{
 "cells": [
  {
   "cell_type": "code",
   "execution_count": 5,
   "metadata": {},
   "outputs": [
    {
     "name": "stdout",
     "output_type": "stream",
     "text": [
      "['Black Widow', 2020, 'Scarlett Johansson', 'Florence Pugh', ['David Harbour', 'Rachel Weisz', 'William Hurt', ['Cate Shortland', 'Stan Lee']]]\n"
     ]
    }
   ],
   "source": [
    "#nested list\n",
    "movies = [\"Black Widow\",2020,\"Scarlett Johansson\",\"Florence Pugh\",[\"David Harbour\",\"Rachel Weisz\",\"William Hurt\",[\"Cate Shortland\",\"Stan Lee\"]]]\n",
    "print(movies)"
   ]
  },
  {
   "cell_type": "code",
   "execution_count": 11,
   "metadata": {},
   "outputs": [
    {
     "name": "stdout",
     "output_type": "stream",
     "text": [
      "Black Widow\n",
      "2020\n",
      "Scarlett Johansson\n",
      "Florence Pugh\n",
      "['David Harbour', 'Rachel Weisz', 'William Hurt', ['Cate Shortland', 'Stan Lee']]\n"
     ]
    }
   ],
   "source": [
    "for item in movies:\n",
    "    print(item)"
   ]
  },
  {
   "cell_type": "code",
   "execution_count": 1,
   "metadata": {},
   "outputs": [
    {
     "data": {
      "text/plain": [
       "True"
      ]
     },
     "execution_count": 1,
     "metadata": {},
     "output_type": "execute_result"
    }
   ],
   "source": [
    "#isinstance() BIF lets you check if a specific identifier holds data of a specific type\n",
    "name = [\"Michael\",\"Terry\"]\n",
    "isinstance(name, list)"
   ]
  },
  {
   "cell_type": "code",
   "execution_count": 4,
   "metadata": {},
   "outputs": [
    {
     "data": {
      "text/plain": [
       "False"
      ]
     },
     "execution_count": 4,
     "metadata": {},
     "output_type": "execute_result"
    }
   ],
   "source": [
    "num_name = len(name)\n",
    "isinstance(num_name,list)"
   ]
  },
  {
   "cell_type": "code",
   "execution_count": 30,
   "metadata": {},
   "outputs": [
    {
     "name": "stdout",
     "output_type": "stream",
     "text": [
      "['Black Widow', 2020, 'Scarlett Johansson', 'Florence Pugh', ['David Harbour', 'Rachel Weisz', 'William Hurt', ['Cate Shortland', 'Stan Lee']]]\n"
     ]
    }
   ],
   "source": [
    "#nested list\n",
    "movies = [\"Black Widow\",2020,\"Scarlett Johansson\",\"Florence Pugh\",[\"David Harbour\",\"Rachel Weisz\",\"William Hurt\",[\"Cate Shortland\",\"Stan Lee\"]]]\n",
    "print(movies)"
   ]
  },
  {
   "cell_type": "code",
   "execution_count": 34,
   "metadata": {},
   "outputs": [
    {
     "name": "stdout",
     "output_type": "stream",
     "text": [
      "Black Widow\n",
      "2020\n",
      "Scarlett Johansson\n",
      "Florence Pugh\n",
      "David Harbour\n",
      "Rachel Weisz\n",
      "William Hurt\n",
      "['Cate Shortland', 'Stan Lee']\n"
     ]
    }
   ],
   "source": [
    "for actors in movies:\n",
    "    if isinstance(actors,list):\n",
    "        for lead_actors in actors:\n",
    "            print(lead_actors)\n",
    "    else:\n",
    "        print(actors)\n",
    "    "
   ]
  },
  {
   "cell_type": "code",
   "execution_count": 53,
   "metadata": {},
   "outputs": [
    {
     "name": "stdout",
     "output_type": "stream",
     "text": [
      "Black Widow\n",
      "2020\n",
      "Scarlett Johansson\n",
      "Florence Pugh\n",
      "David Harbour\n",
      "Rachel Weisz\n",
      "William Hurt\n",
      "Cate Shortland\n",
      "Stan Lee\n",
      "['chetan pujari', 'jarvas stark']\n"
     ]
    }
   ],
   "source": [
    "for actors in movies:\n",
    "    if isinstance(actors,list):\n",
    "        for lead_actors in actors:\n",
    "            if isinstance(lead_actors,list):\n",
    "                for writters in lead_actors:\n",
    "                    print(writters)\n",
    "            else:\n",
    "                print(lead_actors)\n",
    "    else:\n",
    "        print(actors)\n",
    "    "
   ]
  },
  {
   "cell_type": "code",
   "execution_count": 36,
   "metadata": {},
   "outputs": [
    {
     "name": "stdout",
     "output_type": "stream",
     "text": [
      "['Black Widow', 2020, 'Scarlett Johansson', 'Florence Pugh', ['David Harbour', 'Rachel Weisz', 'William Hurt', ['Cate Shortland', 'Stan Lee', ['chetan pujari', 'jarvas stark']]]]\n"
     ]
    }
   ],
   "source": [
    "#nested list\n",
    "#add another list\n",
    "movies = [\"Black Widow\",2020,\"Scarlett Johansson\",\"Florence Pugh\",[\"David Harbour\",\"Rachel Weisz\",\"William Hurt\",[\"Cate Shortland\",\"Stan Lee\",[\"chetan pujari\",\"jarvas stark\"]]]]\n",
    "print(movies)"
   ]
  },
  {
   "cell_type": "code",
   "execution_count": 60,
   "metadata": {},
   "outputs": [
    {
     "name": "stdout",
     "output_type": "stream",
     "text": [
      "chetan pujari\n",
      "jarvas stark\n"
     ]
    }
   ],
   "source": [
    "for actors in movies:\n",
    "    if isinstance(actors,list):\n",
    "        for lead_actors in actors:\n",
    "            if isinstance(lead_actors,list):\n",
    "                for wri in lead_actors:\n",
    "                    if isinstance(wri,list):\n",
    "                        for name in wri:\n",
    "                            print(name)\n",
    "                    else:\n",
    "                        print(wri)\n",
    "            else:\n",
    "                  print(lead_actors)\n",
    "    else:\n",
    "        print(actors)"
   ]
  },
  {
   "cell_type": "code",
   "execution_count": null,
   "metadata": {},
   "outputs": [],
   "source": []
  }
 ],
 "metadata": {
  "kernelspec": {
   "display_name": "Python 3",
   "language": "python",
   "name": "python3"
  },
  "language_info": {
   "codemirror_mode": {
    "name": "ipython",
    "version": 3
   },
   "file_extension": ".py",
   "mimetype": "text/x-python",
   "name": "python",
   "nbconvert_exporter": "python",
   "pygments_lexer": "ipython3",
   "version": "3.7.4"
  }
 },
 "nbformat": 4,
 "nbformat_minor": 2
}
